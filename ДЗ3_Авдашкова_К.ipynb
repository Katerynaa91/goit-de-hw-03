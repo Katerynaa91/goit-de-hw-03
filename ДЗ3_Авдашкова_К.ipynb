{
 "cells": [
  {
   "cell_type": "markdown",
   "id": "24554c74",
   "metadata": {},
   "source": [
    "### Завдання"
   ]
  },
  {
   "cell_type": "markdown",
   "id": "6820d9a0",
   "metadata": {},
   "source": [
    "1. Завантажте та прочитайте кожен CSV-файл як окремий DataFrame.\n",
    "\n",
    "2. Очистіть дані, видаляючи будь-які рядки з пропущеними значеннями.\n",
    "\n",
    "3. Визначте загальну суму покупок за кожною категорією продуктів.\n",
    "\n",
    "4. Визначте суму покупок за кожною категорією продуктів для вікової категорії від 18 до 25 включно.\n",
    "\n",
    "5. Визначте частку покупок за кожною категорією товарів від сумарних витрат для вікової категорії від 18 до 25 років.\n",
    "\n",
    "6. Виберіть 3 категорії продуктів з найвищим відсотком витрат споживачами віком від 18 до 25 років."
   ]
  },
  {
   "cell_type": "code",
   "execution_count": 39,
   "id": "f045edfc",
   "metadata": {},
   "outputs": [],
   "source": [
    "#імпорт бібліотек\n",
    "from pyspark.sql import SparkSession\n",
    "from pyspark.sql.functions import col, count, round, sum, lit"
   ]
  },
  {
   "cell_type": "markdown",
   "id": "3652d480",
   "metadata": {},
   "source": [
    "##### 1. Завантажте та прочитайте кожен CSV-файл як окремий DataFrame."
   ]
  },
  {
   "cell_type": "code",
   "execution_count": 40,
   "id": "0bf201bb",
   "metadata": {},
   "outputs": [],
   "source": [
    "#Створення spark-сесії з назвою HW3\n",
    "spark = SparkSession.builder.appName(\"HW3\").getOrCreate()\n",
    "\n",
    "products = spark.read.csv(\"datasets_hw3/products.csv\", header=True)\n",
    "orders = spark.read.csv(\"datasets_hw3/purchases.csv\", header=True)\n",
    "users = spark.read.csv(\"datasets_hw3/users.csv\", header=True)"
   ]
  },
  {
   "cell_type": "code",
   "execution_count": 41,
   "id": "3c05cad6",
   "metadata": {},
   "outputs": [
    {
     "name": "stdout",
     "output_type": "stream",
     "text": [
      "+----------+------------+-----------+-----+\n",
      "|product_id|product_name|   category|price|\n",
      "+----------+------------+-----------+-----+\n",
      "|         1|   Product_1|     Beauty|  8.3|\n",
      "|         2|   Product_2|       Home|  8.3|\n",
      "|         3|   Product_3|Electronics|  9.2|\n",
      "+----------+------------+-----------+-----+\n",
      "\n",
      "+-----------+-------+----------+----------+--------+\n",
      "|purchase_id|user_id|product_id|      date|quantity|\n",
      "+-----------+-------+----------+----------+--------+\n",
      "|          1|     52|         9|2022-01-01|       1|\n",
      "|          2|     93|        37|2022-01-02|       8|\n",
      "|          3|     15|        33|2022-01-03|       1|\n",
      "+-----------+-------+----------+----------+--------+\n",
      "\n",
      "+-------+------+---+-----------------+\n",
      "|user_id|  name|age|            email|\n",
      "+-------+------+---+-----------------+\n",
      "|      1|User_1| 45|user1@example.com|\n",
      "|      2|User_2| 48|user2@example.com|\n",
      "|      3|User_3| 36|user3@example.com|\n",
      "+-------+------+---+-----------------+\n",
      "\n"
     ]
    }
   ],
   "source": [
    "#Ознайомлення з даними\n",
    "products.select(\"*\").limit(3).show()\n",
    "orders.select(\"*\").limit(3).show()\n",
    "users.select(\"*\").limit(3).show()"
   ]
  },
  {
   "cell_type": "markdown",
   "id": "a42b34d2",
   "metadata": {},
   "source": [
    "##### 2. Очистіть дані, видаляючи будь-які рядки з пропущеними значеннями."
   ]
  },
  {
   "cell_type": "markdown",
   "id": "d4d64189",
   "metadata": {},
   "source": [
    "Спочатку порахуємо загальну кількість записів у таблиців, щоб дізнатись, чи є пропущені значення.\n",
    "- У таблиці products пропущених значень немає.\n",
    "- У таблицях users та purchases порівняємо кількість записів до та після видалення пропусків."
   ]
  },
  {
   "cell_type": "code",
   "execution_count": 42,
   "id": "9ef094c0",
   "metadata": {},
   "outputs": [
    {
     "name": "stdout",
     "output_type": "stream",
     "text": [
      "+--------------+-----------+------------------+--------------+\n",
      "|count_category|count_price|count_product_name|product_id_cnt|\n",
      "+--------------+-----------+------------------+--------------+\n",
      "|            49|         49|                49|            49|\n",
      "+--------------+-----------+------------------+--------------+\n",
      "\n"
     ]
    }
   ],
   "source": [
    "df_products = products.agg(\n",
    "    count(\"category\").alias(\"count_category\"),\n",
    "    count(\"price\").alias(\"count_price\"),\n",
    "    count(\"product_name\").alias(\"count_product_name\"),\n",
    "    count(\"product_id\").alias(\"product_id_cnt\")\n",
    ")\n",
    "\n",
    "df_products.show()\n",
    "\n",
    "#no Nulls"
   ]
  },
  {
   "cell_type": "code",
   "execution_count": 43,
   "id": "97f88da8",
   "metadata": {},
   "outputs": [
    {
     "name": "stdout",
     "output_type": "stream",
     "text": [
      "+----------+---------+-----------+-------------+\n",
      "|count_name|count_age|count_email|user_id_count|\n",
      "+----------+---------+-----------+-------------+\n",
      "|        98|       98|         99|          100|\n",
      "+----------+---------+-----------+-------------+\n",
      "\n"
     ]
    }
   ],
   "source": [
    "def users_count(table = users):\n",
    "    \"\"\"Функція для підрахунку кількості записів у таблиці users\"\"\"\n",
    "    df_users = table.agg(\n",
    "    count(\"name\").alias(\"count_name\"),\n",
    "    count(\"age\").alias(\"count_age\"),\n",
    "    count(\"email\").alias(\"count_email\"),\n",
    "    count(\"user_id\").alias(\"user_id_count\")\n",
    "    )\n",
    "\n",
    "    df_users.show()\n",
    "\n",
    "users_count()"
   ]
  },
  {
   "cell_type": "code",
   "execution_count": 44,
   "id": "9a54f154",
   "metadata": {},
   "outputs": [
    {
     "name": "stdout",
     "output_type": "stream",
     "text": [
      "+----------+---------+-----------+-------------+\n",
      "|count_name|count_age|count_email|user_id_count|\n",
      "+----------+---------+-----------+-------------+\n",
      "|        95|       95|         95|           95|\n",
      "+----------+---------+-----------+-------------+\n",
      "\n"
     ]
    }
   ],
   "source": [
    "users_cleaned = users.dropna()\n",
    "users_count(users_cleaned)"
   ]
  },
  {
   "cell_type": "code",
   "execution_count": 45,
   "id": "b8b86677",
   "metadata": {},
   "outputs": [
    {
     "name": "stdout",
     "output_type": "stream",
     "text": [
      "+-------------+----------------+----------+--------------+-------------+\n",
      "|count_user_id|count_product_id|count_date|count_quantity|user_id_count|\n",
      "+-------------+----------------+----------+--------------+-------------+\n",
      "|          198|             199|       199|           199|          200|\n",
      "+-------------+----------------+----------+--------------+-------------+\n",
      "\n"
     ]
    }
   ],
   "source": [
    "def orders_count(table=orders):\n",
    "    \"\"\"Функція для підрахунку кількості записів у таблиці purchases (переіменувала на orders)\"\"\"\n",
    "    df_orders = table.agg(\n",
    "    count(\"user_id\").alias(\"count_user_id\"),\n",
    "    count(\"product_id\").alias(\"count_product_id\"),\n",
    "    count(\"date\").alias(\"count_date\"),\n",
    "    count(\"quantity\").alias(\"count_quantity\"),\n",
    "    count(\"purchase_id\").alias(\"user_id_count\")\n",
    "    )\n",
    "\n",
    "    df_orders.show()\n",
    "\n",
    "orders_count()"
   ]
  },
  {
   "cell_type": "code",
   "execution_count": 46,
   "id": "262170b5",
   "metadata": {},
   "outputs": [
    {
     "name": "stdout",
     "output_type": "stream",
     "text": [
      "+-------------+----------------+----------+--------------+-------------+\n",
      "|count_user_id|count_product_id|count_date|count_quantity|user_id_count|\n",
      "+-------------+----------------+----------+--------------+-------------+\n",
      "|          195|             195|       195|           195|          195|\n",
      "+-------------+----------------+----------+--------------+-------------+\n",
      "\n"
     ]
    }
   ],
   "source": [
    "orders_cleaned = orders.dropna()\n",
    "\n",
    "orders_count(orders_cleaned)"
   ]
  },
  {
   "cell_type": "markdown",
   "id": "2eb000ad",
   "metadata": {},
   "source": [
    "##### 3. Визначте загальну суму покупок за кожною категорією продуктів."
   ]
  },
  {
   "cell_type": "markdown",
   "id": "7d96fa48",
   "metadata": {},
   "source": [
    "- Створимо окремий датасет orders_tbl з таблиці orders, який міститиме тільки записи, потрібні для даного задання (\"product_id\", \"date\", \"quantity\").\n",
    "- Об'єднуємо (join) таблиці products та orders_tbl.\n",
    "- Створюємо новий атрибут total_price для обчислення загальної вартості products у замовленні. Для цього множимо price і quantity.\n",
    "- Групуємо за атрибутом category.\n",
    "- Рахуємо суми замовлень за кожною категорією."
   ]
  },
  {
   "cell_type": "code",
   "execution_count": 47,
   "id": "39d45720",
   "metadata": {},
   "outputs": [
    {
     "name": "stdout",
     "output_type": "stream",
     "text": [
      "+-----------+-------------------+\n",
      "|   category|revenue_by_category|\n",
      "+-----------+-------------------+\n",
      "|       Home|             1552.2|\n",
      "|     Sports|             1802.5|\n",
      "|Electronics|             1174.8|\n",
      "|   Clothing|              790.3|\n",
      "|     Beauty|              459.9|\n",
      "+-----------+-------------------+\n",
      "\n"
     ]
    }
   ],
   "source": [
    "orders_tbl = orders_cleaned.select(\"product_id\", \"date\", \"quantity\")\n",
    "\n",
    "combined_table = orders_tbl.join(products, orders_tbl.product_id==products.product_id, \"left\")\\\n",
    "            .drop(products.product_id)\\\n",
    "            .dropna(subset=[\"category\"])\\\n",
    "            .withColumn(\"price\", col(\"price\").cast(\"float\"))\\\n",
    "            .withColumn(\"quantity\", col(\"quantity\").cast(\"int\"))\\\n",
    "            .withColumn(\"total_price\", round(col(\"price\")*(col(\"quantity\")), 2))\\\n",
    "            .select(\"category\", \"total_price\")\\\n",
    "            .groupBy(\"category\")\\\n",
    "            .agg(round(sum(\"total_price\"), 2).alias(\"revenue_by_category\"))\n",
    "\n",
    "combined_table.show()"
   ]
  },
  {
   "cell_type": "markdown",
   "id": "228da870",
   "metadata": {},
   "source": [
    "##### 4. Визначте суму покупок за кожною категорією продуктів для вікової категорії від 18 до 25 включно."
   ]
  },
  {
   "cell_type": "code",
   "execution_count": 48,
   "id": "c4581e92",
   "metadata": {},
   "outputs": [
    {
     "name": "stdout",
     "output_type": "stream",
     "text": [
      "+---+-----------+---------------+\n",
      "|age|   category|sum_total_price|\n",
      "+---+-----------+---------------+\n",
      "| 18|       Home|          186.4|\n",
      "| 18|Electronics|           73.6|\n",
      "| 20|       Home|           84.6|\n",
      "| 20|     Sports|           76.8|\n",
      "| 20|Electronics|           46.0|\n",
      "| 20|   Clothing|           36.0|\n",
      "| 20|     Beauty|           33.2|\n",
      "| 21|   Clothing|           21.0|\n",
      "| 21|       Home|            8.8|\n",
      "| 21|     Sports|            8.4|\n",
      "| 23|Electronics|           84.6|\n",
      "| 23|     Sports|           67.5|\n",
      "| 23|       Home|           28.7|\n",
      "| 24|       Home|           81.3|\n",
      "| 24|   Clothing|           50.4|\n",
      "| 24|     Sports|           33.0|\n",
      "| 24|Electronics|           13.0|\n",
      "| 25|   Clothing|          137.6|\n",
      "| 25|     Sports|          124.8|\n",
      "| 25|Electronics|           32.4|\n",
      "+---+-----------+---------------+\n",
      "only showing top 20 rows\n"
     ]
    }
   ],
   "source": [
    "users_1825 = users_cleaned.select(\"*\")\\\n",
    "                        .withColumn(\"age\", col(\"age\").cast(\"int\"))\\\n",
    "                        .where((col(\"age\")>=18) & (col(\"age\")<=25))\n",
    "usr_orders = orders_cleaned.join(\n",
    "        users_1825, orders_cleaned.user_id==users_1825.user_id, \"inner\")\\\n",
    "        .join(products, orders_cleaned.product_id==products.product_id, \"left\")\\\n",
    "        .withColumn(\"price\", col(\"price\").cast(\"float\"))\\\n",
    "        .withColumn(\"quantity\", col(\"quantity\").cast(\"int\"))\\\n",
    "        .withColumn(\"total_price\", round(col(\"price\")*(col(\"quantity\")), 2))\\\n",
    "        .groupBy(\"age\", \"category\")\\\n",
    "        .agg(round(sum(\"total_price\"), 2).alias(\"sum_total_price\")).dropna()\n",
    "\n",
    "usr_orders.orderBy(col(\"age\").asc(), col(\"sum_total_price\").desc()).show()"
   ]
  },
  {
   "cell_type": "markdown",
   "id": "67d0e824",
   "metadata": {},
   "source": [
    "##### 5. Визначте частку покупок за кожною категорією товарів від сумарних витрат для вікової категорії від 18 до 25 років."
   ]
  },
  {
   "cell_type": "code",
   "execution_count": 51,
   "id": "68fac360",
   "metadata": {},
   "outputs": [
    {
     "name": "stdout",
     "output_type": "stream",
     "text": [
      "+-----------+--------------+-----------+-----------+\n",
      "|   category|spent_by_price|total_spent|spent_ratio|\n",
      "+-----------+--------------+-----------+-----------+\n",
      "|       Home|         389.8|     1236.3|       0.32|\n",
      "|     Sports|         310.5|     1236.3|       0.25|\n",
      "|Electronics|         249.6|     1236.3|        0.2|\n",
      "|   Clothing|         245.0|     1236.3|        0.2|\n",
      "|     Beauty|          41.4|     1236.3|       0.03|\n",
      "+-----------+--------------+-----------+-----------+\n",
      "\n"
     ]
    }
   ],
   "source": [
    "total_spent = usr_orders.agg(sum(\"sum_total_price\").alias(\"total_spent\"))\\\n",
    "                    .collect()[0][\"total_spent\"]\n",
    "\n",
    "users_1825_stats = usr_orders.groupBy(\"category\") \\\n",
    "            .agg(round(sum(\"sum_total_price\"), 2).alias(\"spent_by_price\")) \\\n",
    "            .withColumn(\"total_spent\", round(lit(total_spent), 2))\\\n",
    "            .withColumn(\"spent_ratio\", \n",
    "            round(col(\"spent_by_price\").cast(\"float\") / col(\"total_spent\").cast(\"float\"), 2))\n",
    "\n",
    "users_1825_stats.show()"
   ]
  },
  {
   "cell_type": "markdown",
   "id": "c7902c4f",
   "metadata": {},
   "source": [
    "##### 6. Виберіть 3 категорії продуктів з найвищим відсотком витрат споживачами віком від 18 до 25 років."
   ]
  },
  {
   "cell_type": "code",
   "execution_count": 55,
   "id": "5f806082",
   "metadata": {},
   "outputs": [
    {
     "name": "stdout",
     "output_type": "stream",
     "text": [
      "+-----------+--------------+-----------+-----------+\n",
      "|   category|spent_by_price|total_spent|spent_ratio|\n",
      "+-----------+--------------+-----------+-----------+\n",
      "|       Home|         389.8|     1236.3|       0.32|\n",
      "|     Sports|         310.5|     1236.3|       0.25|\n",
      "|Electronics|         249.6|     1236.3|        0.2|\n",
      "+-----------+--------------+-----------+-----------+\n",
      "\n"
     ]
    }
   ],
   "source": [
    "users_1825_stats.select(\"category\", \"spent_by_price\", \"total_spent\", \"spent_ratio\")\\\n",
    "                .orderBy(col(\"spent_ratio\").desc()).limit(3).show()"
   ]
  },
  {
   "cell_type": "code",
   "execution_count": null,
   "id": "80280025",
   "metadata": {},
   "outputs": [],
   "source": [
    "spark.stop()"
   ]
  }
 ],
 "metadata": {
  "kernelspec": {
   "display_name": "apache-env",
   "language": "python",
   "name": "python3"
  },
  "language_info": {
   "codemirror_mode": {
    "name": "ipython",
    "version": 3
   },
   "file_extension": ".py",
   "mimetype": "text/x-python",
   "name": "python",
   "nbconvert_exporter": "python",
   "pygments_lexer": "ipython3",
   "version": "3.12.11"
  }
 },
 "nbformat": 4,
 "nbformat_minor": 5
}
